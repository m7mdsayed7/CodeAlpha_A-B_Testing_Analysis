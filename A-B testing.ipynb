{
 "cells": [
  {
   "cell_type": "markdown",
   "id": "73d74b91",
   "metadata": {},
   "source": [
    "# A/B testing analysis on advertising dataset to make a hypothesis to decide wheather females click on ads more than males or not.\n",
    "### There's a little data visualization done too."
   ]
  },
  {
   "cell_type": "markdown",
   "id": "4bc1d5fd",
   "metadata": {},
   "source": [
    "Importing libraries and displaying dataset:"
   ]
  },
  {
   "cell_type": "code",
   "execution_count": 85,
   "id": "80253911",
   "metadata": {},
   "outputs": [],
   "source": [
    "import pandas as pd\n",
    "import numpy as np\n",
    "import matplotlib.pyplot as plt\n",
    "import seaborn as sns\n",
    "%matplotlib inline\n",
    "from scipy import stats \n",
    "from scipy.stats import chi2_contingency, beta\n",
    "from scipy.stats import norm\n",
    "from scipy.stats import t"
   ]
  },
  {
   "cell_type": "code",
   "execution_count": 4,
   "id": "d8317d16",
   "metadata": {},
   "outputs": [],
   "source": [
    "df = pd.read_csv('advertising.csv')"
   ]
  },
  {
   "cell_type": "code",
   "execution_count": 48,
   "id": "b724b333",
   "metadata": {},
   "outputs": [
    {
     "data": {
      "text/html": [
       "<div>\n",
       "<style scoped>\n",
       "    .dataframe tbody tr th:only-of-type {\n",
       "        vertical-align: middle;\n",
       "    }\n",
       "\n",
       "    .dataframe tbody tr th {\n",
       "        vertical-align: top;\n",
       "    }\n",
       "\n",
       "    .dataframe thead th {\n",
       "        text-align: right;\n",
       "    }\n",
       "</style>\n",
       "<table border=\"1\" class=\"dataframe\">\n",
       "  <thead>\n",
       "    <tr style=\"text-align: right;\">\n",
       "      <th></th>\n",
       "      <th>Daily Time Spent on Site</th>\n",
       "      <th>Age</th>\n",
       "      <th>Area Income</th>\n",
       "      <th>Daily Internet Usage</th>\n",
       "      <th>Ad Topic Line</th>\n",
       "      <th>City</th>\n",
       "      <th>Male</th>\n",
       "      <th>Country</th>\n",
       "      <th>Timestamp</th>\n",
       "      <th>Clicked on Ad</th>\n",
       "    </tr>\n",
       "  </thead>\n",
       "  <tbody>\n",
       "    <tr>\n",
       "      <th>0</th>\n",
       "      <td>68.95</td>\n",
       "      <td>35</td>\n",
       "      <td>61833.90</td>\n",
       "      <td>256.09</td>\n",
       "      <td>Cloned 5thgeneration orchestration</td>\n",
       "      <td>Wrightburgh</td>\n",
       "      <td>0</td>\n",
       "      <td>Tunisia</td>\n",
       "      <td>2016-03-27 00:53:11</td>\n",
       "      <td>0</td>\n",
       "    </tr>\n",
       "    <tr>\n",
       "      <th>1</th>\n",
       "      <td>80.23</td>\n",
       "      <td>31</td>\n",
       "      <td>68441.85</td>\n",
       "      <td>193.77</td>\n",
       "      <td>Monitored national standardization</td>\n",
       "      <td>West Jodi</td>\n",
       "      <td>1</td>\n",
       "      <td>Nauru</td>\n",
       "      <td>2016-04-04 01:39:02</td>\n",
       "      <td>0</td>\n",
       "    </tr>\n",
       "    <tr>\n",
       "      <th>2</th>\n",
       "      <td>69.47</td>\n",
       "      <td>26</td>\n",
       "      <td>59785.94</td>\n",
       "      <td>236.50</td>\n",
       "      <td>Organic bottom-line service-desk</td>\n",
       "      <td>Davidton</td>\n",
       "      <td>0</td>\n",
       "      <td>San Marino</td>\n",
       "      <td>2016-03-13 20:35:42</td>\n",
       "      <td>0</td>\n",
       "    </tr>\n",
       "    <tr>\n",
       "      <th>3</th>\n",
       "      <td>74.15</td>\n",
       "      <td>29</td>\n",
       "      <td>54806.18</td>\n",
       "      <td>245.89</td>\n",
       "      <td>Triple-buffered reciprocal time-frame</td>\n",
       "      <td>West Terrifurt</td>\n",
       "      <td>1</td>\n",
       "      <td>Italy</td>\n",
       "      <td>2016-01-10 02:31:19</td>\n",
       "      <td>0</td>\n",
       "    </tr>\n",
       "    <tr>\n",
       "      <th>4</th>\n",
       "      <td>68.37</td>\n",
       "      <td>35</td>\n",
       "      <td>73889.99</td>\n",
       "      <td>225.58</td>\n",
       "      <td>Robust logistical utilization</td>\n",
       "      <td>South Manuel</td>\n",
       "      <td>0</td>\n",
       "      <td>Iceland</td>\n",
       "      <td>2016-06-03 03:36:18</td>\n",
       "      <td>0</td>\n",
       "    </tr>\n",
       "  </tbody>\n",
       "</table>\n",
       "</div>"
      ],
      "text/plain": [
       "   Daily Time Spent on Site  Age  Area Income  Daily Internet Usage  \\\n",
       "0                     68.95   35     61833.90                256.09   \n",
       "1                     80.23   31     68441.85                193.77   \n",
       "2                     69.47   26     59785.94                236.50   \n",
       "3                     74.15   29     54806.18                245.89   \n",
       "4                     68.37   35     73889.99                225.58   \n",
       "\n",
       "                           Ad Topic Line            City  Male     Country  \\\n",
       "0     Cloned 5thgeneration orchestration     Wrightburgh     0     Tunisia   \n",
       "1     Monitored national standardization       West Jodi     1       Nauru   \n",
       "2       Organic bottom-line service-desk        Davidton     0  San Marino   \n",
       "3  Triple-buffered reciprocal time-frame  West Terrifurt     1       Italy   \n",
       "4          Robust logistical utilization    South Manuel     0     Iceland   \n",
       "\n",
       "             Timestamp  Clicked on Ad  \n",
       "0  2016-03-27 00:53:11              0  \n",
       "1  2016-04-04 01:39:02              0  \n",
       "2  2016-03-13 20:35:42              0  \n",
       "3  2016-01-10 02:31:19              0  \n",
       "4  2016-06-03 03:36:18              0  "
      ]
     },
     "execution_count": 48,
     "metadata": {},
     "output_type": "execute_result"
    }
   ],
   "source": [
    "df.head()"
   ]
  },
  {
   "cell_type": "markdown",
   "id": "b5bfa43f",
   "metadata": {},
   "source": [
    "Ensuring there is no null data and displaying some statistical details of the data:"
   ]
  },
  {
   "cell_type": "code",
   "execution_count": 6,
   "id": "9dc69f1b",
   "metadata": {},
   "outputs": [
    {
     "name": "stdout",
     "output_type": "stream",
     "text": [
      "<class 'pandas.core.frame.DataFrame'>\n",
      "RangeIndex: 1000 entries, 0 to 999\n",
      "Data columns (total 10 columns):\n",
      " #   Column                    Non-Null Count  Dtype  \n",
      "---  ------                    --------------  -----  \n",
      " 0   Daily Time Spent on Site  1000 non-null   float64\n",
      " 1   Age                       1000 non-null   int64  \n",
      " 2   Area Income               1000 non-null   float64\n",
      " 3   Daily Internet Usage      1000 non-null   float64\n",
      " 4   Ad Topic Line             1000 non-null   object \n",
      " 5   City                      1000 non-null   object \n",
      " 6   Male                      1000 non-null   int64  \n",
      " 7   Country                   1000 non-null   object \n",
      " 8   Timestamp                 1000 non-null   object \n",
      " 9   Clicked on Ad             1000 non-null   int64  \n",
      "dtypes: float64(3), int64(3), object(4)\n",
      "memory usage: 78.2+ KB\n"
     ]
    }
   ],
   "source": [
    "df.info()"
   ]
  },
  {
   "cell_type": "code",
   "execution_count": 7,
   "id": "17f6a055",
   "metadata": {},
   "outputs": [
    {
     "data": {
      "text/html": [
       "<div>\n",
       "<style scoped>\n",
       "    .dataframe tbody tr th:only-of-type {\n",
       "        vertical-align: middle;\n",
       "    }\n",
       "\n",
       "    .dataframe tbody tr th {\n",
       "        vertical-align: top;\n",
       "    }\n",
       "\n",
       "    .dataframe thead th {\n",
       "        text-align: right;\n",
       "    }\n",
       "</style>\n",
       "<table border=\"1\" class=\"dataframe\">\n",
       "  <thead>\n",
       "    <tr style=\"text-align: right;\">\n",
       "      <th></th>\n",
       "      <th>Daily Time Spent on Site</th>\n",
       "      <th>Age</th>\n",
       "      <th>Area Income</th>\n",
       "      <th>Daily Internet Usage</th>\n",
       "      <th>Male</th>\n",
       "      <th>Clicked on Ad</th>\n",
       "    </tr>\n",
       "  </thead>\n",
       "  <tbody>\n",
       "    <tr>\n",
       "      <th>count</th>\n",
       "      <td>1000.000000</td>\n",
       "      <td>1000.000000</td>\n",
       "      <td>1000.000000</td>\n",
       "      <td>1000.000000</td>\n",
       "      <td>1000.000000</td>\n",
       "      <td>1000.00000</td>\n",
       "    </tr>\n",
       "    <tr>\n",
       "      <th>mean</th>\n",
       "      <td>65.000200</td>\n",
       "      <td>36.009000</td>\n",
       "      <td>55000.000080</td>\n",
       "      <td>180.000100</td>\n",
       "      <td>0.481000</td>\n",
       "      <td>0.50000</td>\n",
       "    </tr>\n",
       "    <tr>\n",
       "      <th>std</th>\n",
       "      <td>15.853615</td>\n",
       "      <td>8.785562</td>\n",
       "      <td>13414.634022</td>\n",
       "      <td>43.902339</td>\n",
       "      <td>0.499889</td>\n",
       "      <td>0.50025</td>\n",
       "    </tr>\n",
       "    <tr>\n",
       "      <th>min</th>\n",
       "      <td>32.600000</td>\n",
       "      <td>19.000000</td>\n",
       "      <td>13996.500000</td>\n",
       "      <td>104.780000</td>\n",
       "      <td>0.000000</td>\n",
       "      <td>0.00000</td>\n",
       "    </tr>\n",
       "    <tr>\n",
       "      <th>25%</th>\n",
       "      <td>51.360000</td>\n",
       "      <td>29.000000</td>\n",
       "      <td>47031.802500</td>\n",
       "      <td>138.830000</td>\n",
       "      <td>0.000000</td>\n",
       "      <td>0.00000</td>\n",
       "    </tr>\n",
       "    <tr>\n",
       "      <th>50%</th>\n",
       "      <td>68.215000</td>\n",
       "      <td>35.000000</td>\n",
       "      <td>57012.300000</td>\n",
       "      <td>183.130000</td>\n",
       "      <td>0.000000</td>\n",
       "      <td>0.50000</td>\n",
       "    </tr>\n",
       "    <tr>\n",
       "      <th>75%</th>\n",
       "      <td>78.547500</td>\n",
       "      <td>42.000000</td>\n",
       "      <td>65470.635000</td>\n",
       "      <td>218.792500</td>\n",
       "      <td>1.000000</td>\n",
       "      <td>1.00000</td>\n",
       "    </tr>\n",
       "    <tr>\n",
       "      <th>max</th>\n",
       "      <td>91.430000</td>\n",
       "      <td>61.000000</td>\n",
       "      <td>79484.800000</td>\n",
       "      <td>269.960000</td>\n",
       "      <td>1.000000</td>\n",
       "      <td>1.00000</td>\n",
       "    </tr>\n",
       "  </tbody>\n",
       "</table>\n",
       "</div>"
      ],
      "text/plain": [
       "       Daily Time Spent on Site          Age   Area Income  \\\n",
       "count               1000.000000  1000.000000   1000.000000   \n",
       "mean                  65.000200    36.009000  55000.000080   \n",
       "std                   15.853615     8.785562  13414.634022   \n",
       "min                   32.600000    19.000000  13996.500000   \n",
       "25%                   51.360000    29.000000  47031.802500   \n",
       "50%                   68.215000    35.000000  57012.300000   \n",
       "75%                   78.547500    42.000000  65470.635000   \n",
       "max                   91.430000    61.000000  79484.800000   \n",
       "\n",
       "       Daily Internet Usage         Male  Clicked on Ad  \n",
       "count           1000.000000  1000.000000     1000.00000  \n",
       "mean             180.000100     0.481000        0.50000  \n",
       "std               43.902339     0.499889        0.50025  \n",
       "min              104.780000     0.000000        0.00000  \n",
       "25%              138.830000     0.000000        0.00000  \n",
       "50%              183.130000     0.000000        0.50000  \n",
       "75%              218.792500     1.000000        1.00000  \n",
       "max              269.960000     1.000000        1.00000  "
      ]
     },
     "execution_count": 7,
     "metadata": {},
     "output_type": "execute_result"
    }
   ],
   "source": [
    "df.describe()"
   ]
  },
  {
   "cell_type": "code",
   "execution_count": 15,
   "id": "e9f8bd5e",
   "metadata": {},
   "outputs": [
    {
     "data": {
      "text/plain": [
       "(1000, 10)"
      ]
     },
     "execution_count": 15,
     "metadata": {},
     "output_type": "execute_result"
    }
   ],
   "source": [
    "df.shape"
   ]
  },
  {
   "cell_type": "markdown",
   "id": "106f86db",
   "metadata": {},
   "source": [
    "### Firstly, we will see number of males and females who clicked on Ad to see if it supports our assumption."
   ]
  },
  {
   "cell_type": "code",
   "execution_count": 78,
   "id": "7892fecd",
   "metadata": {},
   "outputs": [
    {
     "name": "stderr",
     "output_type": "stream",
     "text": [
      "C:\\Users\\Mido\\AppData\\Local\\Temp\\ipykernel_13020\\1709625504.py:1: UserWarning: Boolean Series key will be reindexed to match DataFrame index.\n",
      "  df[df['Male']==1][df['Clicked on Ad']==1]['Clicked on Ad'].count()\n"
     ]
    },
    {
     "data": {
      "text/plain": [
       "231"
      ]
     },
     "execution_count": 78,
     "metadata": {},
     "output_type": "execute_result"
    }
   ],
   "source": [
    "df[df['Male']==1][df['Clicked on Ad']==1]['Clicked on Ad'].count()\n"
   ]
  },
  {
   "cell_type": "code",
   "execution_count": 79,
   "id": "d0cb89a6",
   "metadata": {},
   "outputs": [
    {
     "name": "stderr",
     "output_type": "stream",
     "text": [
      "C:\\Users\\Mido\\AppData\\Local\\Temp\\ipykernel_13020\\3986011157.py:1: UserWarning: Boolean Series key will be reindexed to match DataFrame index.\n",
      "  df[df['Male']==0][df['Clicked on Ad']==1]['Clicked on Ad'].count()\n"
     ]
    },
    {
     "data": {
      "text/plain": [
       "269"
      ]
     },
     "execution_count": 79,
     "metadata": {},
     "output_type": "execute_result"
    }
   ],
   "source": [
    "df[df['Male']==0][df['Clicked on Ad']==1]['Clicked on Ad'].count()\n"
   ]
  },
  {
   "cell_type": "code",
   "execution_count": 80,
   "id": "04ee9ca4",
   "metadata": {},
   "outputs": [
    {
     "data": {
      "text/plain": [
       "<Axes: xlabel='Male', ylabel='count'>"
      ]
     },
     "execution_count": 80,
     "metadata": {},
     "output_type": "execute_result"
    },
    {
     "data": {
      "image/png": "[encoded data removed]",
      "text/plain": [
       "<Figure size 640x480 with 1 Axes>"
      ]
     },
     "metadata": {},
     "output_type": "display_data"
    }
   ],
   "source": [
    "sns.countplot(data=df,x='Male',hue='Clicked on Ad')"
   ]
  },
  {
   "cell_type": "markdown",
   "id": "c25e90fd",
   "metadata": {},
   "source": [
    "It may slightly supports the assumption."
   ]
  },
  {
   "cell_type": "markdown",
   "id": "914851b5",
   "metadata": {},
   "source": [
    "Grouping male and female columns from the original dataframe:"
   ]
  },
  {
   "cell_type": "code",
   "execution_count": 33,
   "id": "5670bbf5",
   "metadata": {},
   "outputs": [
    {
     "name": "stdout",
     "output_type": "stream",
     "text": [
      "0.4802494802494803 0.5183044315992292\n"
     ]
    }
   ],
   "source": [
    "#subset the original dataframe\n",
    "male=df[df['Male']==1]\n",
    "female=df[df['Male']==0]\n",
    "\n",
    "\n",
    "#find the average clicked on Ad rate of each group\n",
    "malead=male['Clicked on Ad'].mean()\n",
    "femalead=female['Clicked on Ad'].mean()\n",
    "\n",
    "print(malead,femalead)"
   ]
  },
  {
   "cell_type": "markdown",
   "id": "b7637604",
   "metadata": {},
   "source": [
    "# A/B Analysis"
   ]
  },
  {
   "cell_type": "markdown",
   "id": "3ea69892",
   "metadata": {},
   "source": [
    "Sampling the male data:"
   ]
  },
  {
   "cell_type": "code",
   "execution_count": 39,
   "id": "ff4bd5d6",
   "metadata": {},
   "outputs": [
    {
     "data": {
      "text/plain": [
       "<Axes: ylabel='Density'>"
      ]
     },
     "execution_count": 39,
     "metadata": {},
     "output_type": "execute_result"
    },
    {
     "data": {
      "image/png": "[encoded data removed]",
      "text/plain": [
       "<Figure size 640x480 with 1 Axes>"
      ]
     },
     "metadata": {},
     "output_type": "display_data"
    }
   ],
   "source": [
    "#create an empty list to store bootstrapped means\n",
    "boot_male=[]\n",
    "\n",
    "#Set up a loop that will iterate 1000 times. In each iteration, a new bootstrapped sample will be generated\n",
    "for i in range (1000):\n",
    "    boot_mean=male.sample(frac=1,replace=True)['Clicked on Ad'].mean()\n",
    "    boot_male.append(boot_mean)\n",
    "\n",
    "boot_male=pd.DataFrame(boot_male)\n",
    "\n",
    "#Create a kde plot of the bootstrapped means\n",
    "sns.kdeplot(boot_male)"
   ]
  },
  {
   "cell_type": "markdown",
   "id": "452abb97",
   "metadata": {},
   "source": [
    "Sampling the female data:"
   ]
  },
  {
   "cell_type": "code",
   "execution_count": 41,
   "id": "a3a2798e",
   "metadata": {},
   "outputs": [
    {
     "data": {
      "text/plain": [
       "<Axes: ylabel='Density'>"
      ]
     },
     "execution_count": 41,
     "metadata": {},
     "output_type": "execute_result"
    },
    {
     "data": {
      "image/png": "[encoded data removed]",
      "text/plain": [
       "<Figure size 640x480 with 1 Axes>"
      ]
     },
     "metadata": {},
     "output_type": "display_data"
    }
   ],
   "source": [
    "\n",
    "boot_female=[]\n",
    "\n",
    "\n",
    "for i in range (1000):\n",
    "    boot_mean=female.sample(frac=1,replace=True)['Clicked on Ad'].mean()\n",
    "    boot_female.append(boot_mean)\n",
    "\n",
    "boot_female=pd.DataFrame(boot_female)\n",
    "\n",
    "sns.kdeplot(boot_female)"
   ]
  },
  {
   "cell_type": "markdown",
   "id": "78bcc9a8",
   "metadata": {},
   "source": [
    "Since both groups shows a kde plot which follows a normal distribution, then we can do a hypthesis test by running z-test,t-test and chi-square test."
   ]
  },
  {
   "cell_type": "markdown",
   "id": "a2157bb6",
   "metadata": {},
   "source": [
    "# Null hypothesis: Males click on ads more than females.\n",
    "# Alternative hypothesis: Females click on ads more than males."
   ]
  },
  {
   "cell_type": "markdown",
   "id": "5a4809d8",
   "metadata": {},
   "source": [
    "# 1- Z-Test:"
   ]
  },
  {
   "cell_type": "code",
   "execution_count": 87,
   "id": "1a8a2390",
   "metadata": {},
   "outputs": [
    {
     "name": "stdout",
     "output_type": "stream",
     "text": [
      "z score: 0.07608883934862702\n",
      "P Value: 0.46967420965494044\n",
      "critical value: 1.959963984540054\n"
     ]
    }
   ],
   "source": [
    "alpha = 0.05\n",
    "\n",
    "adm=male['Clicked on Ad']\n",
    "adf=female['Clicked on Ad']\n",
    "\n",
    "adm_mean=adm.mean()\n",
    "adf_mean=adf.mean()\n",
    "adm_std=adm.std()\n",
    "adf_std=adf.std()\n",
    "\n",
    "pooled_std=np.sqrt((adf_std**2+adm_std**2)/2)\n",
    "z_score=(adf_mean-adm_mean)/pooled_std\n",
    "p_value=1-stats.norm.cdf(z_score)\n",
    "critical_value = norm.ppf(1 - alpha / 2)\n",
    "print('z score:',z_score)\n",
    "print('P Value:',p_value)\n",
    "print('critical value:',critical_value)"
   ]
  },
  {
   "cell_type": "markdown",
   "id": "7f5983be",
   "metadata": {},
   "source": [
    "## Conclusion:\n",
    "#### Failed to reject the null hypothesis. There is no significant difference  between the two groups as the critical value is the greatest. "
   ]
  },
  {
   "cell_type": "markdown",
   "id": "67852a90",
   "metadata": {},
   "source": [
    "# 2- T-test"
   ]
  },
  {
   "cell_type": "code",
   "execution_count": 98,
   "id": "e3145ef4",
   "metadata": {},
   "outputs": [
    {
     "name": "stdout",
     "output_type": "stream",
     "text": [
      "T-statistic: 1.202202029513623\n",
      "P-value: 0.11478604063419551\n",
      "critical value: 1.9611508260994375\n"
     ]
    }
   ],
   "source": [
    "alpha = 0.05\n",
    "t_stat, p_value = stats.ttest_ind(adf, adm, alternative='greater', equal_var=False)\n",
    "critical_values = t.ppf(1 - alpha / 2, 2000)\n",
    "print(\"T-statistic:\", t_stat)\n",
    "print(\"P-value:\", p_value)\n",
    "print('critical value:',critical_values)"
   ]
  },
  {
   "cell_type": "markdown",
   "id": "56db6615",
   "metadata": {},
   "source": [
    "## Conclusion:\n",
    "#### Failed to reject the null hypothesis. There is no significant difference  between the two groups as the critical value is the greatest. "
   ]
  },
  {
   "cell_type": "markdown",
   "id": "6d458688",
   "metadata": {},
   "source": [
    "# 3- Chi-square test"
   ]
  },
  {
   "cell_type": "code",
   "execution_count": 82,
   "id": "dffdb211",
   "metadata": {},
   "outputs": [
    {
     "name": "stdout",
     "output_type": "stream",
     "text": [
      "chi: 1.4460881512904635    p_value: 0.22915668038050327\n"
     ]
    }
   ],
   "source": [
    "cadm=adm.sum()\n",
    "cadf=adf.sum()\n",
    "xadm=adm.count()- cadm\n",
    "xadf=adf.count()- cadf\n",
    "\n",
    "contingency_table = np.array([[cadf, xadf],[cadm, xadm]])\n",
    "chi, p_value, _, _ = chi2_contingency(contingency_table, correction=False)\n",
    "\n",
    "\n",
    "print('chi:',chi,'   p_value:',p_value)"
   ]
  },
  {
   "cell_type": "markdown",
   "id": "fedd9bd2",
   "metadata": {},
   "source": [
    "## Conclusion:\n",
    "#### Failed to reject the null hypothesis. The p value is greater than 0.05."
   ]
  }
 ],
 "metadata": {
  "kernelspec": {
   "display_name": "Python 3 (ipykernel)",
   "language": "python",
   "name": "python3"
  },
  "language_info": {
   "codemirror_mode": {
    "name": "ipython",
    "version": 3
   },
   "file_extension": ".py",
   "mimetype": "text/x-python",
   "name": "python",
   "nbconvert_exporter": "python",
   "pygments_lexer": "ipython3",
   "version": "3.10.9"
  }
 },
 "nbformat": 4,
 "nbformat_minor": 5
}
